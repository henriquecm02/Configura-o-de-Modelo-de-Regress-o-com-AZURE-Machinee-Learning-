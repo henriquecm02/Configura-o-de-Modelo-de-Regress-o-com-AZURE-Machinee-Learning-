{
  "nbformat": 4,
  "nbformat_minor": 0,
  "metadata": {
    "colab": {
      "provenance": [],
      "authorship_tag": "ABX9TyM3LOm/7S7ZttPBlu6cohvl",
      "include_colab_link": true
    },
    "kernelspec": {
      "name": "python3",
      "display_name": "Python 3"
    },
    "language_info": {
      "name": "python"
    }
  },
  "cells": [
    {
      "cell_type": "markdown",
      "metadata": {
        "id": "view-in-github",
        "colab_type": "text"
      },
      "source": [
        "<a href=\"https://colab.research.google.com/github/henriquecm02/Configura-o-de-Modelo-de-Regress-o-com-AZURE-Machinee-Learning-/blob/main/Projeto1.ipynb\" target=\"_parent\"><img src=\"https://colab.research.google.com/assets/colab-badge.svg\" alt=\"Open In Colab\"/></a>"
      ]
    },
    {
      "cell_type": "code",
      "source": [
        "#Configurações iniciais\n",
        "import google.generativeai as genai\n",
        "\n",
        "GOOGLE_API_KEY=\"INSIRA_SUA_API_KEY\"\n",
        "genai.configure(api_key=GOOGLE_API_KEY)"
      ],
      "metadata": {
        "id": "m0FN66aHLuef"
      },
      "execution_count": 33,
      "outputs": []
    },
    {
      "cell_type": "code",
      "source": [
        "#Listando os modelos disponíveis\n",
        "for m in genai.list_models():\n",
        "  if 'generateContent' in m.supported_generation_methods:\n",
        "    print(m.name)"
      ],
      "metadata": {
        "id": "sFWyBwM7Lw9L"
      },
      "execution_count": null,
      "outputs": []
    },
    {
      "cell_type": "code",
      "source": [
        "generation_config = {\n",
        "  \"candidate_count\": 1,\n",
        "  \"temperature\": 0.5,\n",
        "}"
      ],
      "metadata": {
        "id": "TP517jHuMcYp"
      },
      "execution_count": null,
      "outputs": []
    },
    {
      "cell_type": "code",
      "source": [
        "\"\"\"safety_settings={\n",
        "    'HATE': 'BLOCK_NONE',\n",
        "    'HARASSMENT': 'BLOCK_NONE',\n",
        "    'SEXUAL' : 'BLOCK_NONE',\n",
        "    'DANGEROUS' : 'BLOCK_NONE'\n",
        "    }\"\"\""
      ],
      "metadata": {
        "id": "Vh7NnB-1MiJd"
      },
      "execution_count": null,
      "outputs": []
    },
    {
      "cell_type": "code",
      "source": [
        "model = genai.GenerativeModel(model_name='gemini-1.0-pro',\n",
        "                                  generation_config=generation_config,\n",
        "                                  safety_settings=safety_settings,)"
      ],
      "metadata": {
        "id": "7yB-LqPTMndK"
      },
      "execution_count": null,
      "outputs": []
    },
    {
      "cell_type": "code",
      "source": [
        "response = model.generate_content(\"Que empresa criou o modelo de IA Gemini?\")\n",
        "response.text"
      ],
      "metadata": {
        "id": "xutt6zgJMtGA"
      },
      "execution_count": null,
      "outputs": []
    },
    {
      "cell_type": "code",
      "source": [
        "\n",
        "prompt = {\n",
        "1 : \"Professor de Segurança da Informação para leigos e Iniciantes\",\n",
        "2 : \"Engenheiro de Software com foco em segurança\",\n",
        "3 : \"Engenheiro de Cibersegurança Sênior\",\n",
        "}"
      ],
      "metadata": {
        "id": "-Q6RXa1PamxO"
      },
      "execution_count": null,
      "outputs": []
    },
    {
      "cell_type": "code",
      "source": [
        "prompt[1]"
      ],
      "metadata": {
        "id": "5tMAAZuQlmpF"
      },
      "execution_count": null,
      "outputs": []
    },
    {
      "cell_type": "code",
      "source": [
        "chat = model.start_chat(history=[])\n",
        "\n",
        "reconhecimento = input(' Olá! Bem Vindo(a) ao S1.🚫.S! Queremos muito te auxiliar, então por gentileza nos indique logo abaixo qual a categoria de usuário você se enquadra:\\n 1- Usuários Convencionais em busca de orientações e soluções inteligentes sobre Segurança da Informação.\\n 2- Desenvolvedores e Profissionais de TI, buscando avaliar o nível de segurança de seus códigos.\\n 3- Profissionais de Segurança da Informação e Telecomunicações, buscando soluções avançadas.\\n Digite o número da opção desejada.\\n')\n",
        "if reconhecimento == 1 :\n",
        "  system_instruction = model.system_struction(prompt[1])\n",
        "  prompt = input('Com o que podemos auxiliá-lo(a): ')\n",
        "  while prompt != \"fim\":\n",
        "    response = chat.send_message(prompt)\n",
        "    print(\"Resposta:\", response.text, '\\n\\n')\n",
        "    prompt = input('Com o que podemos auxiliá-lo(a): ')\n",
        "\n",
        "elif reconhecimento == 2 :\n",
        "  system_instruction = model.system_struction(prompt[2])\n",
        "  prompt = input('Esperando prompt: ')\n",
        "  while prompt != \"fim\":\n",
        "    response = chat.send_message(prompt)\n",
        "    print(\"Resposta:\", response.text, '\\n\\n')\n",
        "    prompt = input('Esperando prompt: ')\n",
        "elif reconhecimento == 3 :\n",
        "  system_instruction = modelo.system_instruction(prompt[3])  prompt = input('Esperando prompt: ')\n",
        "  while prompt != \"fim\":\n",
        "    response = chat.send_message(prompt)\n",
        "    print(\"Resposta:\", response.text, '\\n\\n')\n",
        "    prompt = input('Esperando prompt: ')\n",
        "Else:\n",
        "  Print(\"** Entrada Invalida! **\")"
      ],
      "metadata": {
        "id": "TL7riPlhM2PS"
      },
      "execution_count": null,
      "outputs": []
    },
    {
      "cell_type": "code",
      "source": [
        "reconhecimento = input(' Olá! Bem Vindo(a) ao S1.🚫.S! Queremos muito te auxiliar, então por gentileza nos indique logo abaixo qual a categoria de usuário você se enquadra:\\n 1- Usuários Convencionais em busca de orientações e soluções inteligentes sobre Segurança da Informação.\\n 2- Desenvolvedores e Profissionais de TI, buscando avaliar o nível de segurança de seus códigos.\\n 3- Profissionais de Segurança da Informação e Telecomunicações, buscando soluções avançadas.\\n Digite o número da opção desejada.\\n')\n",
        "prompt = input('Esperando prompt: ')"
      ],
      "metadata": {
        "id": "Fs36iz7YWiax"
      },
      "execution_count": null,
      "outputs": []
    },
    {
      "cell_type": "code",
      "source": [
        "Chat.history"
      ],
      "metadata": {
        "id": "zgPzD7yBND20"
      },
      "execution_count": null,
      "outputs": []
    },
    {
      "cell_type": "code",
      "source": [],
      "metadata": {
        "id": "LHudpaCdNN9E"
      },
      "execution_count": null,
      "outputs": []
    }
  ]
}